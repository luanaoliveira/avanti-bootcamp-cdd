{
 "cells": [
  {
   "cell_type": "code",
   "execution_count": 1,
   "id": "46939c83-58d8-42d3-8dfe-faa8683f180e",
   "metadata": {
    "tags": []
   },
   "outputs": [],
   "source": [
    "import seaborn as sns\n",
    "import pandas as pd\n",
    "import numpy as np"
   ]
  },
  {
   "cell_type": "code",
   "execution_count": 2,
   "id": "00f9f94c-f3e4-477a-a722-e32923f8124f",
   "metadata": {
    "tags": []
   },
   "outputs": [],
   "source": [
    "df = sns.load_dataset(\"diamonds\")\n",
    "df.to_csv('../data/raw/data_diamonds.csv', index=False)"
   ]
  },
  {
   "cell_type": "code",
   "execution_count": 3,
   "id": "548cf28c-302e-4b31-9cfc-843268586957",
   "metadata": {
    "tags": []
   },
   "outputs": [
    {
     "data": {
      "text/plain": [
       "Index(['carat', 'cut', 'color', 'clarity', 'depth', 'table', 'price', 'x', 'y',\n",
       "       'z'],\n",
       "      dtype='object')"
      ]
     },
     "execution_count": 3,
     "metadata": {},
     "output_type": "execute_result"
    }
   ],
   "source": [
    "df.columns"
   ]
  },
  {
   "cell_type": "code",
   "execution_count": 4,
   "id": "f0282940-503b-4520-8580-b92b7c5ecfc9",
   "metadata": {
    "tags": []
   },
   "outputs": [
    {
     "data": {
      "text/html": [
       "<div>\n",
       "<style scoped>\n",
       "    .dataframe tbody tr th:only-of-type {\n",
       "        vertical-align: middle;\n",
       "    }\n",
       "\n",
       "    .dataframe tbody tr th {\n",
       "        vertical-align: top;\n",
       "    }\n",
       "\n",
       "    .dataframe thead th {\n",
       "        text-align: right;\n",
       "    }\n",
       "</style>\n",
       "<table border=\"1\" class=\"dataframe\">\n",
       "  <thead>\n",
       "    <tr style=\"text-align: right;\">\n",
       "      <th></th>\n",
       "      <th>variavel</th>\n",
       "      <th>descricao</th>\n",
       "      <th>tipo</th>\n",
       "      <th>subtipo</th>\n",
       "    </tr>\n",
       "  </thead>\n",
       "  <tbody>\n",
       "    <tr>\n",
       "      <th>0</th>\n",
       "      <td>carat</td>\n",
       "      <td>Peso do diamante</td>\n",
       "      <td>quantitativa</td>\n",
       "      <td>continua</td>\n",
       "    </tr>\n",
       "    <tr>\n",
       "      <th>1</th>\n",
       "      <td>cut</td>\n",
       "      <td>QuAlidade do corte</td>\n",
       "      <td>qualitativa</td>\n",
       "      <td>nominal</td>\n",
       "    </tr>\n",
       "    <tr>\n",
       "      <th>2</th>\n",
       "      <td>color</td>\n",
       "      <td>Cor do diamante</td>\n",
       "      <td>qualitativa</td>\n",
       "      <td>nominal</td>\n",
       "    </tr>\n",
       "    <tr>\n",
       "      <th>3</th>\n",
       "      <td>clarity</td>\n",
       "      <td>Clareza do diamante</td>\n",
       "      <td>qualitativa</td>\n",
       "      <td>nominal</td>\n",
       "    </tr>\n",
       "    <tr>\n",
       "      <th>4</th>\n",
       "      <td>depth</td>\n",
       "      <td>Porcentagem de profundidade</td>\n",
       "      <td>quantitativa</td>\n",
       "      <td>continua</td>\n",
       "    </tr>\n",
       "    <tr>\n",
       "      <th>5</th>\n",
       "      <td>table</td>\n",
       "      <td>Largura do topo do losango em relação ao ponto...</td>\n",
       "      <td>quantitativa</td>\n",
       "      <td>continua</td>\n",
       "    </tr>\n",
       "    <tr>\n",
       "      <th>6</th>\n",
       "      <td>price</td>\n",
       "      <td>Preço em dólares americanos</td>\n",
       "      <td>quantitativa</td>\n",
       "      <td>discreta</td>\n",
       "    </tr>\n",
       "    <tr>\n",
       "      <th>7</th>\n",
       "      <td>x</td>\n",
       "      <td>Comprimento em mm</td>\n",
       "      <td>quantitativa</td>\n",
       "      <td>continua</td>\n",
       "    </tr>\n",
       "    <tr>\n",
       "      <th>8</th>\n",
       "      <td>y</td>\n",
       "      <td>Largura em mm</td>\n",
       "      <td>quantitativa</td>\n",
       "      <td>continua</td>\n",
       "    </tr>\n",
       "    <tr>\n",
       "      <th>9</th>\n",
       "      <td>z</td>\n",
       "      <td>Profundidade em mm</td>\n",
       "      <td>quantitativa</td>\n",
       "      <td>continua</td>\n",
       "    </tr>\n",
       "  </tbody>\n",
       "</table>\n",
       "</div>"
      ],
      "text/plain": [
       "  variavel                                          descricao          tipo  \\\n",
       "0    carat                                   Peso do diamante  quantitativa   \n",
       "1      cut                                 QuAlidade do corte   qualitativa   \n",
       "2    color                                    Cor do diamante   qualitativa   \n",
       "3  clarity                                Clareza do diamante   qualitativa   \n",
       "4    depth                        Porcentagem de profundidade  quantitativa   \n",
       "5    table  Largura do topo do losango em relação ao ponto...  quantitativa   \n",
       "6    price                        Preço em dólares americanos  quantitativa   \n",
       "7        x                                  Comprimento em mm  quantitativa   \n",
       "8        y                                      Largura em mm  quantitativa   \n",
       "9        z                                 Profundidade em mm  quantitativa   \n",
       "\n",
       "    subtipo  \n",
       "0  continua  \n",
       "1   nominal  \n",
       "2   nominal  \n",
       "3   nominal  \n",
       "4  continua  \n",
       "5  continua  \n",
       "6  discreta  \n",
       "7  continua  \n",
       "8  continua  \n",
       "9  continua  "
      ]
     },
     "execution_count": 4,
     "metadata": {},
     "output_type": "execute_result"
    }
   ],
   "source": [
    "dicionario_diamonds = pd.DataFrame([\n",
    "    {\n",
    "        'variavel': 'carat',\n",
    "        'descricao': 'Peso do diamante',\n",
    "        'tipo': 'quantitativa',\n",
    "        'subtipo': 'continua'\n",
    "    },{\n",
    "        'variavel': 'cut',\n",
    "        'descricao': 'QuAlidade do corte',\n",
    "        'tipo': 'qualitativa',\n",
    "        'subtipo': 'nominal'\n",
    "    },{\n",
    "        'variavel': 'color',\n",
    "        'descricao': 'Cor do diamante',\n",
    "        'tipo': 'qualitativa',\n",
    "        'subtipo': 'nominal'\n",
    "    },{\n",
    "        'variavel': 'clarity',\n",
    "        'descricao': 'Clareza do diamante',\n",
    "        'tipo': 'qualitativa',\n",
    "        'subtipo': 'nominal'\n",
    "    },{\n",
    "        'variavel': 'depth',\n",
    "        'descricao': 'Porcentagem de profundidade',\n",
    "        'tipo': 'quantitativa',\n",
    "        'subtipo': 'continua'\n",
    "    },{\n",
    "        'variavel': 'table',\n",
    "        'descricao': 'Largura do topo do losango em relação ao ponto mais largo',\n",
    "        'tipo': 'quantitativa',\n",
    "        'subtipo': 'continua'\n",
    "    },{\n",
    "        'variavel': 'price',\n",
    "        'descricao': 'Preço em dólares americanos',\n",
    "        'tipo': 'quantitativa',\n",
    "        'subtipo': 'discreta'\n",
    "    },{\n",
    "        'variavel': 'x',\n",
    "        'descricao': 'Comprimento em mm',\n",
    "        'tipo': 'quantitativa',\n",
    "        'subtipo': 'continua'\n",
    "    },{\n",
    "        'variavel': 'y',\n",
    "        'descricao': 'Largura em mm',\n",
    "        'tipo': 'quantitativa',\n",
    "        'subtipo': 'continua'\n",
    "    },{\n",
    "        'variavel': 'z',\n",
    "        'descricao': 'Profundidade em mm',\n",
    "        'tipo': 'quantitativa',\n",
    "        'subtipo': 'continua'\n",
    "    }\n",
    "])\n",
    "\n",
    "dicionario_diamonds"
   ]
  },
  {
   "cell_type": "code",
   "execution_count": 5,
   "id": "d11c6aec-00d3-4bfd-b0f2-3a173809d0b4",
   "metadata": {
    "tags": []
   },
   "outputs": [],
   "source": [
    "dicionario_diamonds.to_csv('../data/external/dictionary_diamonds.csv', index=False)"
   ]
  }
 ],
 "metadata": {
  "kernelspec": {
   "display_name": "Python 3 (ipykernel)",
   "language": "python",
   "name": "python3"
  },
  "language_info": {
   "codemirror_mode": {
    "name": "ipython",
    "version": 3
   },
   "file_extension": ".py",
   "mimetype": "text/x-python",
   "name": "python",
   "nbconvert_exporter": "python",
   "pygments_lexer": "ipython3",
   "version": "3.10.12"
  }
 },
 "nbformat": 4,
 "nbformat_minor": 5
}
